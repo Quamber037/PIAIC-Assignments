{
 "cells": [
  {
   "cell_type": "markdown",
   "metadata": {},
   "source": [
    "<h3>Q no 1:  Write a python program to find number of occurrences of given number in a list with out using built-in methods</h3>\n",
    "<h4>**1 generate a list of some random num which is repeated again and again</h4>\n",
    "<h4>**2 take user input any number</h4>\n",
    "<h4>**3 find the number of occurrences of that num in your list</h4>\n",
    "<h4>**4 print some message to user with that result</h4>"
   ]
  },
  {
   "cell_type": "code",
   "execution_count": 2,
   "metadata": {},
   "outputs": [],
   "source": [
    "import random"
   ]
  },
  {
   "cell_type": "code",
   "execution_count": 28,
   "metadata": {},
   "outputs": [
    {
     "name": "stdout",
     "output_type": "stream",
     "text": [
      "Enter how many numbers you want in the list: 20\n",
      "Enter A Number: 5\n",
      "Randomised list is:  [5, 16, 17, 1, 3, 4, 18, 4, 2, 8, 18, 19, 17, 1, 15, 1, 7, 10, 5, 3]\n",
      "Your Number 5 is repeated 2 times\n"
     ]
    }
   ],
   "source": [
    "y = 0\n",
    "a=[]\n",
    "n = int(input(\"Enter how many numbers you want in the list: \"))\n",
    "p = int(input(\"Enter A Number: \"))\n",
    "for j in range(n):\n",
    "    a.append(random.randint(1,n))\n",
    "print('Randomised list is: ', a)   \n",
    "\n",
    "for i in range(n):\n",
    "    if (a[i] == p):\n",
    "        y +=1\n",
    "print(\"Your Number\",p,\"is repeated\",y,\"times\")        "
   ]
  },
  {
   "cell_type": "markdown",
   "metadata": {},
   "source": [
    "<h3>Q no 2:   [\"www.zframez.com\", \"www.wikipedia.org\", \"www.asp.net\", \"www.abcd.in\"]\n",
    "<br/><br/><br/><br/><br/>\n",
    "Write a python program to print website suffixes (com , org , net ,in) from this list\n",
    "\n",
    "Hint : Use split() method to perform this task\n",
    "</h3>\n"
   ]
  },
  {
   "cell_type": "code",
   "execution_count": 29,
   "metadata": {},
   "outputs": [],
   "source": [
    "web_sites = [\"www.zframez.com\", \"www.wikipedia.org\", \"www.asp.net\", \"www.abcd.in\"]   "
   ]
  },
  {
   "cell_type": "code",
   "execution_count": 30,
   "metadata": {},
   "outputs": [
    {
     "name": "stdout",
     "output_type": "stream",
     "text": [
      "Following Are the Website Suffixes in the given list:\n",
      "com\n",
      "org\n",
      "net\n",
      "in\n"
     ]
    }
   ],
   "source": [
    "print(\"Following Are the Website Suffixes in the given list:\")\n",
    "for site in web_sites:\n",
    "    splitted_web = site.split(\".\")\n",
    "    print(splitted_web[-1])"
   ]
  },
  {
   "cell_type": "markdown",
   "metadata": {},
   "source": [
    "<h3> Q no 3 : Write a program which can compute the factorial of a given numbers.</h3>\n",
    "<br/>\n",
    "<br/>\n",
    "<h4>**1 first take user input any number</h4>\n",
    "<h4>**2 calculate factorial of that input and then print the result to user</h4>"
   ]
  },
  {
   "cell_type": "code",
   "execution_count": 31,
   "metadata": {},
   "outputs": [
    {
     "name": "stdout",
     "output_type": "stream",
     "text": [
      "Enter a number: 5\n"
     ]
    }
   ],
   "source": [
    "q = int(input(\"Enter a number: \"))"
   ]
  },
  {
   "cell_type": "code",
   "execution_count": 32,
   "metadata": {},
   "outputs": [],
   "source": [
    "a = 1\n",
    "for i in range(q):\n",
    "     a*=(i+1)\n",
    "     "
   ]
  },
  {
   "cell_type": "code",
   "execution_count": 33,
   "metadata": {},
   "outputs": [
    {
     "name": "stdout",
     "output_type": "stream",
     "text": [
      "Factorial of a given number is 120 .\n"
     ]
    }
   ],
   "source": [
    "print(\"Factorial of a given number is\",a,\".\")"
   ]
  },
  {
   "cell_type": "markdown",
   "metadata": {},
   "source": [
    "<h3>Q 4 (a) :  If you could invite anyone, living or deceased, to dinner, who\n",
    "would you invite? Make a list that includes at least three people you’d like to\n",
    "invite to dinner. Then use your list to print a message to each person, inviting\n",
    "them to dinner.</h3>"
   ]
  },
  {
   "cell_type": "code",
   "execution_count": 58,
   "metadata": {},
   "outputs": [
    {
     "name": "stdout",
     "output_type": "stream",
     "text": [
      "How many people you would like to invite!!!.. 3\n"
     ]
    }
   ],
   "source": [
    "no_of_invite = int(input(\"How many people you would like to invite!!!.. \"))\n",
    "if no_of_invite <= 2:\n",
    "    print(\"Nope......Invite Alteast three persons.\")\n",
    "    "
   ]
  },
  {
   "cell_type": "code",
   "execution_count": 59,
   "metadata": {},
   "outputs": [
    {
     "name": "stdout",
     "output_type": "stream",
     "text": [
      "Enter the person name: Ali\n",
      "Enter the person name: Saad\n",
      "Enter the person name: Hassan\n"
     ]
    }
   ],
   "source": [
    "m = []\n",
    "for hi in range(no_of_invite):\n",
    "    hi = input(\"Enter the person name: \")\n",
    "    m.append(hi)"
   ]
  },
  {
   "cell_type": "code",
   "execution_count": 60,
   "metadata": {},
   "outputs": [
    {
     "name": "stdout",
     "output_type": "stream",
     "text": [
      "The Invitation Message to the quest:\n",
      "Ali is invited to my dinner party\n",
      "Saad is invited to my dinner party\n",
      "Hassan is invited to my dinner party\n"
     ]
    }
   ],
   "source": [
    "print(\"The Invitation Message to the quest:\")\n",
    "for i in range(no_of_invite):\n",
    "    print(m[i], \"is invited to my dinner party\")"
   ]
  },
  {
   "cell_type": "code",
   "execution_count": 61,
   "metadata": {},
   "outputs": [
    {
     "name": "stdout",
     "output_type": "stream",
     "text": [
      "Saad Can't make it to the party.\n"
     ]
    }
   ],
   "source": [
    "print(m[1], \"Can't make it to the party.\")"
   ]
  },
  {
   "cell_type": "markdown",
   "metadata": {},
   "source": [
    "<h3>Q 4 (b) : You just heard that one of your guests can’t make the\n",
    "dinner, so you need to send out a new set of invitations. You’ll have to think of\n",
    "someone else to invite.<br/></br><br/>\n",
    "•\t Start with your program from Q 4 (a). Add a print statement at the\n",
    "end of your program stating the name of the guest who can’t make it.<br/></br><br/>\n",
    "•\t Modify your list, replacing the name of the guest who can’t make it with\n",
    "the name of the new person you are inviting.<br/></br><br/>\n",
    "•\t Print a second set of invitation messages, one for each person who is still\n",
    "in your list.<br/></br><br/></h3>"
   ]
  },
  {
   "cell_type": "code",
   "execution_count": 62,
   "metadata": {},
   "outputs": [
    {
     "name": "stdout",
     "output_type": "stream",
     "text": [
      "Which person do you want to invite: Quamber\n"
     ]
    }
   ],
   "source": [
    "u = input(\"Which person do you want to invite: \")"
   ]
  },
  {
   "cell_type": "code",
   "execution_count": 63,
   "metadata": {},
   "outputs": [
    {
     "name": "stdout",
     "output_type": "stream",
     "text": [
      "Saad Can't make it. So I'm inviting Quamber\n"
     ]
    }
   ],
   "source": [
    "print(m[1],\"Can't make it. So I'm inviting\",u)"
   ]
  },
  {
   "cell_type": "code",
   "execution_count": 64,
   "metadata": {},
   "outputs": [],
   "source": [
    "for x in range(no_of_invite):\n",
    "    if m[x] == m[1]:\n",
    "        m[x] = u"
   ]
  },
  {
   "cell_type": "code",
   "execution_count": 65,
   "metadata": {},
   "outputs": [
    {
     "name": "stdout",
     "output_type": "stream",
     "text": [
      "Modified Invitation Message to the quest:\n",
      "Ali is invited to my dinner party\n",
      "Quamber is invited to my dinner party\n",
      "Hassan is invited to my dinner party\n"
     ]
    }
   ],
   "source": [
    "print(\"Modified Invitation Message to the quest:\")\n",
    "for i in range(no_of_invite):\n",
    "    print(m[i], \"is invited to my dinner party\")"
   ]
  },
  {
   "cell_type": "code",
   "execution_count": 66,
   "metadata": {},
   "outputs": [
    {
     "name": "stdout",
     "output_type": "stream",
     "text": [
      "Now I found a bigger dinner table, so now more space is available.\n"
     ]
    }
   ],
   "source": [
    "print(\"Now I found a bigger dinner table, so now more space is available.\")"
   ]
  },
  {
   "cell_type": "markdown",
   "metadata": {},
   "source": [
    "<h3>Q 4 (c) : You just found a bigger dinner table, so now more space is\n",
    "available. Think of three more guests to invite to dinner.<br/></br><br/>\n",
    "•\t Start with your program from Q 4 (a) and (b) Add a print\n",
    "statement to the end of your program informing people that you found a\n",
    "bigger dinner table.<br/></br><br/>\n",
    "•\t Use insert() to add one new guest to the beginning of your list.<br/></br><br/>\n",
    "•\t Use insert() to add one new guest to the middle of your list.<br/></br><br/>\n",
    "•\t Use append() to add one new guest to the end of your list.<br/></br><br/>\n",
    "•\t Print a new set of invitation messages, one for each person in your list.<br/></br><br/></h3>"
   ]
  },
  {
   "cell_type": "code",
   "execution_count": 67,
   "metadata": {},
   "outputs": [
    {
     "name": "stdout",
     "output_type": "stream",
     "text": [
      "Invite a new guest to the beginning of your list: Fareed\n",
      "['Fareed', 'Ali', 'Quamber', 'Hassan']\n"
     ]
    }
   ],
   "source": [
    "i = str(input(\"Invite a new guest to the beginning of your list: \"))\n",
    "m.insert(0,i)\n",
    "print(m)"
   ]
  },
  {
   "cell_type": "code",
   "execution_count": 74,
   "metadata": {},
   "outputs": [
    {
     "name": "stdout",
     "output_type": "stream",
     "text": [
      "Invite a new guest to the middle of your list.Mohsin\n",
      "['Fareed', 'Ali', 'Quamber', 'Mohsin', 'Hassan']\n"
     ]
    }
   ],
   "source": [
    "i = input(\"Invite a new guest to the middle of your list.\")\n",
    "m.insert(3,i)\n",
    "print(m)"
   ]
  },
  {
   "cell_type": "code",
   "execution_count": 75,
   "metadata": {},
   "outputs": [
    {
     "name": "stdout",
     "output_type": "stream",
     "text": [
      "Invite a new guest to the end of your list.Aqib\n",
      "['Fareed', 'Ali', 'Quamber', 'Mohsin', 'Hassan', 'Aqib']\n"
     ]
    }
   ],
   "source": [
    "i = input(\"Invite a new guest to the end of your list.\")\n",
    "m.append(i)\n",
    "print(m)"
   ]
  },
  {
   "cell_type": "code",
   "execution_count": 76,
   "metadata": {},
   "outputs": [
    {
     "name": "stdout",
     "output_type": "stream",
     "text": [
      "Fareed is invited to my dinner party\n",
      "Ali is invited to my dinner party\n",
      "Quamber is invited to my dinner party\n",
      "Mohsin is invited to my dinner party\n",
      "Hassan is invited to my dinner party\n",
      "Aqib is invited to my dinner party\n"
     ]
    }
   ],
   "source": [
    "for i in range(len(m)):\n",
    "    print(m[i], \"is invited to my dinner party\")"
   ]
  },
  {
   "cell_type": "markdown",
   "metadata": {},
   "source": [
    "<h5> Q 5 : Here you have some data in variable below, your task is to make a list of specific word Surah then print the list and length of list</h5>\n"
   ]
  },
  {
   "cell_type": "code",
   "execution_count": 84,
   "metadata": {},
   "outputs": [
    {
     "name": "stdout",
     "output_type": "stream",
     "text": [
      "Surah I Who believe in the Unseen, Surah Are steadfast in prayer, And spend Surah out of what We Have provided for them;\n"
     ]
    }
   ],
   "source": [
    "data = \"Surah I Who believe in the Unseen, Surah Are steadfast in prayer, And spend Surah out of what We Have provided for them;\"\n",
    "print(data)"
   ]
  },
  {
   "cell_type": "code",
   "execution_count": 85,
   "metadata": {},
   "outputs": [
    {
     "name": "stdout",
     "output_type": "stream",
     "text": [
      "['Surah', 'Surah', 'Surah']\n"
     ]
    },
    {
     "data": {
      "text/plain": [
       "3"
      ]
     },
     "execution_count": 85,
     "metadata": {},
     "output_type": "execute_result"
    }
   ],
   "source": [
    "specific_words = []\n",
    "sp_data = data.split(\" \")\n",
    "for i in range(len(sp_data)):\n",
    "    if sp_data[i] == \"Surah\":\n",
    "        specific_words.append(sp_data[i])\n",
    "print(specific_words)\n",
    "len(specific_words)"
   ]
  },
  {
   "cell_type": "markdown",
   "metadata": {},
   "source": [
    " <h3>Q no 6 : You have some name of cities in list named cities, Your task is to check whether Karachi is present in this list or not, if present print the index where the value Karachi is present</h3>"
   ]
  },
  {
   "cell_type": "code",
   "execution_count": 87,
   "metadata": {},
   "outputs": [],
   "source": [
    "cities=[\"Peshawar\",\"Karachi\",\"Hyderabad\",\"Multan\",\"Lahore\"]\n",
    "check = 'Karachi'"
   ]
  },
  {
   "cell_type": "code",
   "execution_count": 90,
   "metadata": {},
   "outputs": [
    {
     "name": "stdout",
     "output_type": "stream",
     "text": [
      "Yes, the word is present in the list and having the index 1\n"
     ]
    }
   ],
   "source": [
    "for city in cities:\n",
    "    if city == check:\n",
    "        print(\"Yes, the word is present in the list and having the index\",cities.index('Karachi'))"
   ]
  }
 ],
 "metadata": {
  "kernelspec": {
   "display_name": "Python 3",
   "language": "python",
   "name": "python3"
  },
  "language_info": {
   "codemirror_mode": {
    "name": "ipython",
    "version": 3
   },
   "file_extension": ".py",
   "mimetype": "text/x-python",
   "name": "python",
   "nbconvert_exporter": "python",
   "pygments_lexer": "ipython3",
   "version": "3.7.3"
  }
 },
 "nbformat": 4,
 "nbformat_minor": 2
}
