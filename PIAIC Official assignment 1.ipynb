{
 "cells": [
  {
   "cell_type": "markdown",
   "metadata": {},
   "source": [
    "## 1. Calculate Area of a Circle"
   ]
  },
  {
   "cell_type": "markdown",
   "metadata": {},
   "source": [
    "#### Write a Python program which accepts the radius of a circle from the user and compute the area.\n",
    "###### Program Console Sample Output 1:\n",
    "###### Input Radius: 0.5\n",
    "###### Area of Circle with radius 0.5 is 0.7853981634"
   ]
  },
  {
   "cell_type": "code",
   "execution_count": 29,
   "metadata": {},
   "outputs": [],
   "source": [
    "import numpy as np"
   ]
  },
  {
   "cell_type": "code",
   "execution_count": 3,
   "metadata": {},
   "outputs": [],
   "source": [
    "def area_circle(r):\n",
    "    x = np.pi*r**2\n",
    "    x = np.round(x,10)\n",
    "    return print(\"Area of Circle with radius\",r,\"is\",x)"
   ]
  },
  {
   "cell_type": "code",
   "execution_count": 4,
   "metadata": {},
   "outputs": [
    {
     "name": "stdout",
     "output_type": "stream",
     "text": [
      "Enter the Value of Radius: 0.5\n",
      "Area of Circle with radius 0.5 is 0.7853981634\n"
     ]
    }
   ],
   "source": [
    "y = float(input(\"Enter the Value of Radius: \"))\n",
    "area_circle(y)"
   ]
  },
  {
   "cell_type": "code",
   "execution_count": null,
   "metadata": {},
   "outputs": [],
   "source": []
  },
  {
   "cell_type": "markdown",
   "metadata": {},
   "source": [
    "## 2. Check Number either positive, negative or zero"
   ]
  },
  {
   "cell_type": "markdown",
   "metadata": {},
   "source": [
    "#### Write a Python program to check if a number is positive, negative or zero\n",
    "###### Program Console Sample Output 1:\n",
    "###### Enter Number: -1\n",
    "##### Negative Number Entered\n",
    "###### Program Console Sample Output 2:\n",
    "##### Integer: 3\n",
    "##### Positive Number Entered\n",
    "###### Program Console Sample Output 3:\n",
    "##### Integer: 0\n",
    "###### Zero Entered"
   ]
  },
  {
   "cell_type": "code",
   "execution_count": 9,
   "metadata": {},
   "outputs": [],
   "source": [
    "def checker(x):\n",
    "    if x > 0:\n",
    "        print(\"Positive Number Entered\")\n",
    "    elif x < 0:\n",
    "        print(\"Negative Number Entered\")\n",
    "    else:\n",
    "        print(\"Zero Entered\")"
   ]
  },
  {
   "cell_type": "code",
   "execution_count": 10,
   "metadata": {},
   "outputs": [
    {
     "name": "stdout",
     "output_type": "stream",
     "text": [
      "Enter a Number: -11\n",
      "Negative Number Entered\n"
     ]
    }
   ],
   "source": [
    "c = float(input(\"Enter a Number: \"))\n",
    "checker(c)"
   ]
  },
  {
   "cell_type": "code",
   "execution_count": null,
   "metadata": {},
   "outputs": [],
   "source": []
  },
  {
   "cell_type": "code",
   "execution_count": null,
   "metadata": {},
   "outputs": [],
   "source": []
  },
  {
   "cell_type": "markdown",
   "metadata": {},
   "source": [
    "## 3. Divisibility Check of two numbers"
   ]
  },
  {
   "cell_type": "markdown",
   "metadata": {},
   "source": [
    "#### Write a Python program to check whether a number is completely divisible by another number. Accept two integer values form the user\n",
    "##### Program Console Sample Output 1:\n",
    "###### Enter numerator: 4\n",
    "###### Enter Denominator: 2\n",
    "##### Number 4 is Completely divisible by 2\n",
    "###### Program Console Sample Output 2:\n",
    "##### Enter numerator: 7\n",
    "\n",
    "##### Enter Denominator: 4\n",
    "###### Number 7 is not Completely divisible by 4"
   ]
  },
  {
   "cell_type": "code",
   "execution_count": 11,
   "metadata": {},
   "outputs": [],
   "source": [
    "def checker_1(x,y):\n",
    "    if (x%y == 0):\n",
    "        print(\"Number\",x,\"is completely divisible by\",y)\n",
    "    else:\n",
    "        print(\"Number\",x,\"is not completely divisible by\",y)"
   ]
  },
  {
   "cell_type": "code",
   "execution_count": 13,
   "metadata": {},
   "outputs": [
    {
     "name": "stdout",
     "output_type": "stream",
     "text": [
      "Enter numerator: 7\n",
      "Enter Denominator 4\n",
      "Number 7 is not completely divisible by 4\n"
     ]
    }
   ],
   "source": [
    "a = int(input(\"Enter numerator: \"))\n",
    "b = int(input(\"Enter Denominator \"))\n",
    "checker_1(a,b)"
   ]
  },
  {
   "cell_type": "code",
   "execution_count": 15,
   "metadata": {},
   "outputs": [
    {
     "name": "stdout",
     "output_type": "stream",
     "text": [
      "Enter numerator: 10\n",
      "Enter Denominator 5\n",
      "Number 10 is completely divisible by 5\n"
     ]
    }
   ],
   "source": [
    "a = int(input(\"Enter numerator: \"))\n",
    "b = int(input(\"Enter Denominator \"))\n",
    "checker_1(a,b)"
   ]
  },
  {
   "cell_type": "code",
   "execution_count": null,
   "metadata": {},
   "outputs": [],
   "source": []
  },
  {
   "cell_type": "code",
   "execution_count": null,
   "metadata": {},
   "outputs": [],
   "source": []
  },
  {
   "cell_type": "code",
   "execution_count": null,
   "metadata": {},
   "outputs": [],
   "source": []
  },
  {
   "cell_type": "markdown",
   "metadata": {},
   "source": [
    "## 4. Calculate Volume of a sphere"
   ]
  },
  {
   "cell_type": "markdown",
   "metadata": {},
   "source": [
    "##### Write a Python program to get the volume of a sphere, please take the radius as input from user"
   ]
  },
  {
   "cell_type": "markdown",
   "metadata": {},
   "source": [
    "##### Program Console Output:\n",
    "##### Enter Radius of Sphere: 1\n",
    "###### Volume of the Sphere with Radius 1 is 4.18"
   ]
  },
  {
   "cell_type": "code",
   "execution_count": 20,
   "metadata": {},
   "outputs": [],
   "source": [
    "def volume_sphere(r):\n",
    "    x = (4/3)*np.pi*r**3\n",
    "    x = np.round(x,2)\n",
    "    return print(\"Volume of sphere with radius\",r,\"is\",x)                                     "
   ]
  },
  {
   "cell_type": "code",
   "execution_count": 21,
   "metadata": {},
   "outputs": [
    {
     "name": "stdout",
     "output_type": "stream",
     "text": [
      "Enter the Value of Radius: 1\n",
      "Volume of sphere with radius 1.0 is 4.19\n"
     ]
    }
   ],
   "source": [
    "y = float(input(\"Enter the Value of Radius: \"))\n",
    "volume_sphere(y)"
   ]
  },
  {
   "cell_type": "code",
   "execution_count": null,
   "metadata": {},
   "outputs": [],
   "source": []
  },
  {
   "cell_type": "code",
   "execution_count": null,
   "metadata": {},
   "outputs": [],
   "source": []
  },
  {
   "cell_type": "code",
   "execution_count": null,
   "metadata": {},
   "outputs": [],
   "source": []
  },
  {
   "cell_type": "markdown",
   "metadata": {},
   "source": [
    "## 5. Copy string n times\n",
    "#### Write a Python program to get a string which is n (non-negative integer) copies of a given string.\n",
    "##### Program Console Output:\n",
    "##### Enter String: Hi\n",
    "###### How many copies of String you need: 4\n",
    "###### 4 Copies of Hi are HiHiHiHi"
   ]
  },
  {
   "cell_type": "code",
   "execution_count": 13,
   "metadata": {},
   "outputs": [],
   "source": [
    "def nstring_times(x,n):\n",
    "    return print(n,\"Copies of\",x,\"are\",x*n)"
   ]
  },
  {
   "cell_type": "code",
   "execution_count": 14,
   "metadata": {},
   "outputs": [
    {
     "name": "stdout",
     "output_type": "stream",
     "text": [
      "Enter String: Hi\n",
      "How many copies of string you need: 4\n",
      "4 Copies of Hi are HiHiHiHi\n"
     ]
    }
   ],
   "source": [
    "a = str(input(\"Enter String: \"))\n",
    "b = int(input(\"How many copies of string you need: \"))\n",
    "nstring_times(a,b)"
   ]
  },
  {
   "cell_type": "code",
   "execution_count": 15,
   "metadata": {},
   "outputs": [
    {
     "name": "stdout",
     "output_type": "stream",
     "text": [
      "Enter String: Quamber Naqvi\n",
      "How many copies of string you need: 9\n",
      "9 Copies of Quamber Naqvi are Quamber NaqviQuamber NaqviQuamber NaqviQuamber NaqviQuamber NaqviQuamber NaqviQuamber NaqviQuamber NaqviQuamber Naqvi\n"
     ]
    }
   ],
   "source": [
    "a = str(input(\"Enter String: \"))\n",
    "b = int(input(\"How many copies of string you need: \"))\n",
    "nstring_times(a,b)"
   ]
  },
  {
   "cell_type": "code",
   "execution_count": null,
   "metadata": {},
   "outputs": [],
   "source": []
  },
  {
   "cell_type": "code",
   "execution_count": null,
   "metadata": {},
   "outputs": [],
   "source": []
  },
  {
   "cell_type": "markdown",
   "metadata": {},
   "source": [
    "## 6. Check if number is Even or Odd\n",
    "### Write a Python program to find whether a given number (accept from the user) is even or odd, print out an appropriate message to the user\n",
    "#### Program Console Output 1:\n",
    "##### Enter Number: 4\n",
    "###### 4 is Even\n",
    "#### Program Console Output 2:\n",
    "##### Enter Number: 9\n",
    "###### 9 is Odd"
   ]
  },
  {
   "cell_type": "code",
   "execution_count": 16,
   "metadata": {},
   "outputs": [],
   "source": [
    "def Even_or_Odd(n):\n",
    "    if (n%2==0):\n",
    "        print(n,\"is Even\")\n",
    "    else:\n",
    "        print(n,\"is Odd\")"
   ]
  },
  {
   "cell_type": "code",
   "execution_count": 17,
   "metadata": {},
   "outputs": [
    {
     "name": "stdout",
     "output_type": "stream",
     "text": [
      "Enter A Number: 102\n",
      "102 is Even\n"
     ]
    }
   ],
   "source": [
    "n = int(input(\"Enter A Number: \"))\n",
    "Even_or_Odd(n)"
   ]
  },
  {
   "cell_type": "code",
   "execution_count": null,
   "metadata": {},
   "outputs": [],
   "source": []
  },
  {
   "cell_type": "code",
   "execution_count": null,
   "metadata": {},
   "outputs": [],
   "source": []
  },
  {
   "cell_type": "code",
   "execution_count": null,
   "metadata": {},
   "outputs": [],
   "source": []
  },
  {
   "cell_type": "markdown",
   "metadata": {},
   "source": [
    "## 7. Vowel Tester\n",
    "### Write a Python program to test whether a passed letter is a vowel or not\n",
    "#### Program Console Output 1:\n",
    "##### Enter a character: A\n",
    "###### Letter A is Vowel\n",
    "#### Program Console Output 2:\n",
    "##### Enter a character: e\n",
    "###### Letter e is Vowel\n",
    "#### Program Console Output 2:\n",
    "##### Enter a character: N\n",
    "###### Letter N is not Vowel"
   ]
  },
  {
   "cell_type": "code",
   "execution_count": 21,
   "metadata": {},
   "outputs": [],
   "source": [
    "def vowel_tester(w):\n",
    "    n = w.lower()\n",
    "    if n == \"a\" or n == \"e\" or n == \"i\" or n == \"o\" or n == \"u\":\n",
    "        print(\"Letter\",w,\"is Vowel\")\n",
    "    else:\n",
    "        print(\"Letter\",w,\"is not Vowel\")"
   ]
  },
  {
   "cell_type": "code",
   "execution_count": 24,
   "metadata": {},
   "outputs": [
    {
     "name": "stdout",
     "output_type": "stream",
     "text": [
      "Enter a character: E\n",
      "Letter E is Vowel\n"
     ]
    }
   ],
   "source": [
    "q = str(input(\"Enter a character: \"))\n",
    "vowel_tester(q)"
   ]
  },
  {
   "cell_type": "code",
   "execution_count": 25,
   "metadata": {},
   "outputs": [
    {
     "name": "stdout",
     "output_type": "stream",
     "text": [
      "Enter a character: y\n",
      "Letter y is not Vowel\n"
     ]
    }
   ],
   "source": [
    "q = str(input(\"Enter a character: \"))\n",
    "vowel_tester(q)"
   ]
  },
  {
   "cell_type": "code",
   "execution_count": null,
   "metadata": {},
   "outputs": [],
   "source": []
  },
  {
   "cell_type": "markdown",
   "metadata": {},
   "source": [
    "## 8. Triangle area\n",
    "### Write a Python program that will accept the base and height of a triangle and compute the area\n",
    "###### Reference:\n",
    "https://www.mathgoodies.com/lessons/vol1/area_triangle"
   ]
  },
  {
   "cell_type": "code",
   "execution_count": 33,
   "metadata": {},
   "outputs": [],
   "source": [
    "def area_triangle(b,h):\n",
    "    x = (1/2)*b*h\n",
    "    x = np.round(x,2)\n",
    "    return print(\"Area of Triangle with base\",b,\"and height\",h,\"is\",x)"
   ]
  },
  {
   "cell_type": "code",
   "execution_count": 34,
   "metadata": {},
   "outputs": [
    {
     "name": "stdout",
     "output_type": "stream",
     "text": [
      "Enter Base: 2.6\n",
      "Enter Height: 6\n",
      "Area of Triangle with base 2.6 and height 6.0 is 7.8\n"
     ]
    }
   ],
   "source": [
    "a = float(input(\"Enter Base: \"))\n",
    "b = float(input(\"Enter Height: \"))\n",
    "area_triangle(a,b)"
   ]
  },
  {
   "cell_type": "code",
   "execution_count": null,
   "metadata": {},
   "outputs": [],
   "source": []
  },
  {
   "cell_type": "code",
   "execution_count": null,
   "metadata": {},
   "outputs": [],
   "source": []
  },
  {
   "cell_type": "raw",
   "metadata": {},
   "source": [
    "## 9. Calculate Interest\n",
    "### Write a Python program to compute the future value of a specified principal amount, rate of interest, and a number of years\n",
    "#### Program Console Sample 1:\n",
    "##### Please enter principal amount: 10000\n",
    "###### Please Enter Rate of interest in %: 0.1\n",
    "###### Enter number of years for investment: 5\n",
    "###### After 5 years your principal amount 10000 over an interest rate of 0.1 % will be 16105.1"
   ]
  },
  {
   "cell_type": "code",
   "execution_count": 37,
   "metadata": {},
   "outputs": [],
   "source": [
    "def interest(p,i,n):\n",
    "    x = p*(1+i)**n\n",
    "    x = np.round(x,1)\n",
    "    return print(\"After\",n,\"years your principal amount\",p,\"over  an interest rate of\",i,\"% will be\",x)"
   ]
  },
  {
   "cell_type": "code",
   "execution_count": 38,
   "metadata": {},
   "outputs": [
    {
     "name": "stdout",
     "output_type": "stream",
     "text": [
      "Please enter principal amount: 10000\n",
      "Please Enter Rate of interest in %: 0.1\n",
      "Enter number of years for investment: 5\n",
      "After 5 years your principal amount 10000.0 over  an interest rate of 0.1 % will be 16105.1\n"
     ]
    }
   ],
   "source": [
    "a = float(input(\"Please enter principal amount: \"))\n",
    "b = float(input(\"Please Enter Rate of interest in %: \"))\n",
    "c = int(input(\"Enter number of years for investment: \"))\n",
    "interest(a,b,c)"
   ]
  },
  {
   "cell_type": "code",
   "execution_count": 39,
   "metadata": {},
   "outputs": [
    {
     "name": "stdout",
     "output_type": "stream",
     "text": [
      "Please enter principal amount: 10100\n",
      "Please Enter Rate of interest in %: 0.74\n",
      "Enter number of years for investment: 10\n",
      "After 10 years your principal amount 10100.0 over  an interest rate of 0.74 % will be 2569294.3\n"
     ]
    }
   ],
   "source": [
    "a = float(input(\"Please enter principal amount: \"))\n",
    "b = float(input(\"Please Enter Rate of interest in %: \"))\n",
    "c = int(input(\"Enter number of years for investment: \"))\n",
    "interest(a,b,c)"
   ]
  },
  {
   "cell_type": "code",
   "execution_count": null,
   "metadata": {},
   "outputs": [],
   "source": []
  },
  {
   "cell_type": "code",
   "execution_count": null,
   "metadata": {},
   "outputs": [],
   "source": []
  },
  {
   "cell_type": "code",
   "execution_count": null,
   "metadata": {},
   "outputs": [],
   "source": []
  },
  {
   "cell_type": "markdown",
   "metadata": {},
   "source": [
    "## 10. Euclidean distance\n",
    "### write a Python program to compute the distance between the points (x1, y1) and (x2, y2).\n",
    "#### Program Console Sample 1:\n",
    "###### Enter Co-ordinate for x1: 2\n",
    "###### Enter Co-ordinate for x2: 4\n",
    "###### Enter Co-ordinate for y1: 4\n",
    "###### Enter Co-ordinate for y2: 4\n",
    "###### Distance between points (2, 4) and (4, 4) is 2"
   ]
  },
  {
   "cell_type": "markdown",
   "metadata": {},
   "source": [
    " #Reference:\n",
    "https://en.wikipedia.org/wiki/Euclidean_distance"
   ]
  },
  {
   "cell_type": "code",
   "execution_count": 53,
   "metadata": {},
   "outputs": [],
   "source": [
    "def euclidean_distance(x1,x2,y1,y2):\n",
    "    x = (x2 - x1)**2\n",
    "    y = (y2 - y1)**2\n",
    "    z = x+y\n",
    "    z = np.sqrt(z)\n",
    "    z = int(z)\n",
    "    return print(\"Distance between points\",\"(\",x1,\",\",x2,\") and\",\"(\",y1,\",\",y2,\") is\",z )"
   ]
  },
  {
   "cell_type": "code",
   "execution_count": 54,
   "metadata": {},
   "outputs": [
    {
     "name": "stdout",
     "output_type": "stream",
     "text": [
      "Enter Co-ordinate for x1: 2\n",
      "Enter Co-ordinate for x2: 4\n",
      "Enter Co-ordinate for y1: 4\n",
      "Enter Co-ordinate for y2: 4\n",
      "Distance between points ( 2 , 4 ) and ( 4 , 4 ) is 2\n"
     ]
    }
   ],
   "source": [
    "a = int(input(\"Enter Co-ordinate for x1: \"))\n",
    "b = int(input(\"Enter Co-ordinate for x2: \"))\n",
    "c = int(input(\"Enter Co-ordinate for y1: \"))\n",
    "d = int(input(\"Enter Co-ordinate for y2: \"))\n",
    "euclidean_distance(a,b,c,d)"
   ]
  },
  {
   "cell_type": "code",
   "execution_count": null,
   "metadata": {},
   "outputs": [],
   "source": []
  },
  {
   "cell_type": "code",
   "execution_count": null,
   "metadata": {},
   "outputs": [],
   "source": []
  },
  {
   "cell_type": "markdown",
   "metadata": {},
   "source": [
    "## 11. Feet to Centimeter Converter\n",
    "### Write a Python program to convert height in feet to centimetres.\n",
    "##### Program Console Sample 1:\n",
    "###### Enter Height in Feet: 5\n",
    "###### There are 152.4 Cm in 5 ft\n",
    "###### Reference:\n",
    "https://www.rapidtables.com/convert/length/feet-to-cm.html"
   ]
  },
  {
   "cell_type": "code",
   "execution_count": 61,
   "metadata": {},
   "outputs": [],
   "source": [
    "def feet_to_centimetres(f):\n",
    "    d = f * 30.48\n",
    "    d = np.round(d,1)\n",
    "    print(\"There are\",d,\"Cm in\",f,\"ft\")"
   ]
  },
  {
   "cell_type": "code",
   "execution_count": 63,
   "metadata": {},
   "outputs": [
    {
     "name": "stdout",
     "output_type": "stream",
     "text": [
      "Enter Height in Feet: 5\n",
      "There are 152.4 Cm in 5 ft\n"
     ]
    }
   ],
   "source": [
    "a = int(input(\"Enter Height in Feet: \"))\n",
    "feet_to_centimetres(a)"
   ]
  },
  {
   "cell_type": "code",
   "execution_count": null,
   "metadata": {},
   "outputs": [],
   "source": []
  },
  {
   "cell_type": "code",
   "execution_count": null,
   "metadata": {},
   "outputs": [],
   "source": []
  },
  {
   "cell_type": "markdown",
   "metadata": {},
   "source": [
    "## 12. BMI Calculator\n",
    "### Write a Python program to calculate body mass index\n",
    "##### Program Console Sample 1:\n",
    "###### Enter Height in Cm: 180\n",
    "###### Enter Weight in Kg: 75\n",
    "###### Your BMI is 23.15"
   ]
  },
  {
   "cell_type": "code",
   "execution_count": 74,
   "metadata": {},
   "outputs": [],
   "source": [
    "def bmi_calculcator(h,w):\n",
    "    bmi = (w/(h*h))*10000\n",
    "    bmi = np.round(bmi,2)\n",
    "    return print(\"Your BMI is\",bmi)"
   ]
  },
  {
   "cell_type": "code",
   "execution_count": 75,
   "metadata": {},
   "outputs": [
    {
     "name": "stdout",
     "output_type": "stream",
     "text": [
      "Enter Height in Cm: 180\n",
      "Enter Weight in Kg: 75\n",
      "Your BMI is 23.15\n"
     ]
    }
   ],
   "source": [
    "a = float(input(\"Enter Height in Cm: \"))\n",
    "b = float(input(\"Enter Weight in Kg: \"))\n",
    "bmi_calculcator(a,b)"
   ]
  },
  {
   "cell_type": "code",
   "execution_count": null,
   "metadata": {},
   "outputs": [],
   "source": []
  },
  {
   "cell_type": "markdown",
   "metadata": {},
   "source": [
    "## 13. Sum of n Positive Integers\n",
    "### Write a python program to sum of the first n positive integers\n",
    "#### Program Console Sample 1:\n",
    "###### Enter value of n: 5\n",
    "###### Sum of n Positive integers till 5 is 15"
   ]
  },
  {
   "cell_type": "code",
   "execution_count": 83,
   "metadata": {},
   "outputs": [],
   "source": [
    "def sum_all(n):\n",
    "    p = 0\n",
    "    for i in range(n+1):\n",
    "        p += i\n",
    "    return print(\"Sum of n Positive integers till\",n,\"is\",p)    "
   ]
  },
  {
   "cell_type": "code",
   "execution_count": 85,
   "metadata": {},
   "outputs": [
    {
     "name": "stdout",
     "output_type": "stream",
     "text": [
      "Enter value of n: 5\n",
      "Sum of n Positive integers till 5 is 15\n"
     ]
    }
   ],
   "source": [
    "a = int(input(\"Enter value of n: \"))\n",
    "sum_all(a)"
   ]
  },
  {
   "cell_type": "code",
   "execution_count": null,
   "metadata": {},
   "outputs": [],
   "source": []
  },
  {
   "cell_type": "markdown",
   "metadata": {},
   "source": [
    "## 14. Digits Sum of a Number\n",
    "### Write a Python program to calculate the sum of the digits in an integer\n",
    "#### Program Console Sample 1:\n",
    "##### Enter a number: 15\n",
    "###### Sum of 1 + 5 is 6\n",
    "#### Program Console Sample 2:\n",
    "##### Enter a number: 1234\n",
    "###### Sum of 1 + 2 + 3 + 4 is 10"
   ]
  },
  {
   "cell_type": "code",
   "execution_count": 119,
   "metadata": {},
   "outputs": [],
   "source": [
    "def sum_of_int(n):\n",
    "    a = []\n",
    "    w = len(str(n))\n",
    "    k = w\n",
    "    p = n\n",
    "    count = 0 \n",
    "    for i in range(k):\n",
    "        q=p%10\n",
    "        p = p/10\n",
    "        p = int(p)\n",
    "        a.append(q)\n",
    "        j =sum(a)\n",
    "        if i == (k-1):\n",
    "            print(q,\"=\",j)\n",
    "            break\n",
    "        print(q,\"+ \",end=\"\")\n",
    "           "
   ]
  },
  {
   "cell_type": "code",
   "execution_count": 123,
   "metadata": {},
   "outputs": [
    {
     "name": "stdout",
     "output_type": "stream",
     "text": [
      "3 + 2 + 1 + 4 + 2 + 3 + 1 + 4 + 2 + 1 = 23\n"
     ]
    }
   ],
   "source": [
    "sum_of_int(1241324123)\n"
   ]
  },
  {
   "cell_type": "code",
   "execution_count": 124,
   "metadata": {},
   "outputs": [
    {
     "name": "stdout",
     "output_type": "stream",
     "text": [
      "4 + 2 + 1 = 7\n"
     ]
    }
   ],
   "source": [
    "sum_of_int(124)\n"
   ]
  },
  {
   "cell_type": "code",
   "execution_count": 127,
   "metadata": {},
   "outputs": [
    {
     "name": "stdout",
     "output_type": "stream",
     "text": [
      "4 + 2 + 3 + 1 + 4 + 2 + 1 = 17\n"
     ]
    }
   ],
   "source": [
    "sum_of_int(1241324)\n"
   ]
  }
 ],
 "metadata": {
  "kernelspec": {
   "display_name": "Python 3",
   "language": "python",
   "name": "python3"
  },
  "language_info": {
   "codemirror_mode": {
    "name": "ipython",
    "version": 3
   },
   "file_extension": ".py",
   "mimetype": "text/x-python",
   "name": "python",
   "nbconvert_exporter": "python",
   "pygments_lexer": "ipython3",
   "version": "3.7.3"
  }
 },
 "nbformat": 4,
 "nbformat_minor": 2
}
